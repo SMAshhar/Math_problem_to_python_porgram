{
 "cells": [
  {
   "cell_type": "code",
   "execution_count": null,
   "metadata": {
    "vscode": {
     "languageId": "plaintext"
    }
   },
   "outputs": [],
   "source": [
    "from crewai import Agent, Crew, Task\n",
    "from crewai_tools import CodeInterpreterTool\n",
    "from langchain_groq import ChatGroq"
   ]
  },
  {
   "cell_type": "code",
   "execution_count": null,
   "metadata": {
    "vscode": {
     "languageId": "plaintext"
    }
   },
   "outputs": [],
   "source": [
    "from typing import List\n"
   ]
  },
  {
   "cell_type": "code",
   "execution_count": null,
   "metadata": {
    "vscode": {
     "languageId": "plaintext"
    }
   },
   "outputs": [],
   "source": [
    "from utils import get_openai_api_key, get_serper_api_key, get_groq_api_key"
   ]
  },
  {
   "cell_type": "code",
   "execution_count": null,
   "metadata": {
    "vscode": {
     "languageId": "plaintext"
    }
   },
   "outputs": [],
   "source": [
    "from dotenv import load_dotenv, find_dotenv\n",
    "\n",
    "load_dotenv()"
   ]
  },
  {
   "cell_type": "code",
   "execution_count": null,
   "metadata": {
    "vscode": {
     "languageId": "plaintext"
    }
   },
   "outputs": [],
   "source": [
    "\n",
    "\n",
    "llm = ChatGroq(\n",
    "    model=\"llama-3.1-70b-versatile\"\n",
    ")"
   ]
  },
  {
   "cell_type": "code",
   "execution_count": null,
   "metadata": {
    "vscode": {
     "languageId": "plaintext"
    }
   },
   "outputs": [],
   "source": [
    "understand_problem = Agent(\n",
    "    role='Understand Problem',\n",
    "    goal=(\"\"\"Understand the problem statement and identify the key components and list them down \n",
    "          for the next agent to work upon. The question will be given as a statement clearly defining\n",
    "          the *constraints*, *Input Format*, *Output Format* and *Sample Explanation*. You are to break down\n",
    "          all the needs of the problem and list them in an understandable format.\n",
    "          \n",
    "          Here is an example of the problem that will be given to you:\n",
    "\n",
    "          You've found a solution to an implementation-heavy geometry problem that requires typing out N lines of code. Annoyingly, you only have a P% chance of typing out any given line without a mistake, and your code will only be accepted if all N lines are correct. The chance of making a mistake in one line is independent of the chance of making a mistake in any other line.\n",
    "\n",
    "          You realize there might be a solution which only requires N-1 lines (each also having a P% chance of being typed correctly). However, instead of thinking about that, you could also just type out the N-line solution more carefully to increase P. How much would P have to increase to yield the same chance of success as needing to type one fewer line of code?\n",
    "\n",
    "          # Constraints\n",
    "          1 ≤ T ≤ 100\n",
    "          2 ≤ N ≤ 1,000\n",
    "          1 ≤ P ≤ 99\n",
    "\n",
    "          # Input Format\n",
    "          Input begins with an integer T, the number of test cases. Each case is a single line containing the integers N and P.\n",
    "\n",
    "          # Example Input Format\n",
    "          4\n",
    "          3 10\n",
    "          2 50\n",
    "          13 37\n",
    "          950 95\n",
    "\n",
    "          # Output Format\n",
    "          For the ith test case, print \"Case #i: \" followed by how much higher P would need to be to make spending your time typing carefully be as successful as typing one line fewer with your original P.\n",
    "\n",
    "          Your answer will be accepted if it is within an absolute or relative error of 10⁻⁶.\n",
    "\n",
    "          # Sample Explanation\n",
    "          In the first case, you initially need to type 2 lines. You can either type just 1 line with a 50% success rate, or you could improve your typing accuracy to √50% ≈ 70.710678%, at which point you'd have a √50%^2 = 50% chance of successfully typing the original 2 lines. So you would need to increase P by 70.710678 - 50 = 20.710678 for both approaches to have an equal chance of success.\n",
    "    \"\"\")\n",
    "\n",
    "          ,\n",
    "    backstory=(\"\"\"\n",
    "                You are a Phd level Mathematician whose approach to\n",
    "                handling tough mathematical problems and identiifying the core underlying needs\n",
    "                is unmatched. You have a keen eye for detail and a passion for understanding the\n",
    "                underlying principles and the underlying forces that lead to a problem solution.\n",
    "                You have a deep understanding of the mathematical theory and have a good\n",
    "                understanding of the underlying principles and the underlying forces that lead to a\n",
    "                problem solution. You are also a good communicator and a great problem solver.\n",
    "              \n",
    "               \"\"\"),\n",
    "    # tools=tools,\n",
    "    verbose=True,\n",
    "    allow_delegation=False\n",
    ")"
   ]
  },
  {
   "cell_type": "code",
   "execution_count": null,
   "metadata": {
    "vscode": {
     "languageId": "plaintext"
    }
   },
   "outputs": [],
   "source": [
    "understand_problem_task = Task(\n",
    "    description=\"\"\"\n",
    "    Analyze the given {problem} statement to identify and extract all relevant components for the next stages of processing.\n",
    "    You are required to:\n",
    "    1. Parse the *constraints* provided in the {problem} to define the boundaries within which the solution must operate.\n",
    "    2. Identify the *input format* specifications, including the types and structure of data that will be provided.\n",
    "    3. Define the *output format* based on the {problem} requirements, ensuring that it aligns with the specified solution expectations.\n",
    "    4. Break down the {problem} into key steps that will be handled in subsequent stages.\n",
    "    5. Provide detailed explanations or clarifications on any ambiguities in the {problem} statement.\n",
    "    6. Consider edge cases and potential issues that might arise in the solution process and document them for later agents.\n",
    "    \"\"\",\n",
    "    expected_output=\"\"\"\n",
    "    A well-structured and detailed breakdown of the {problem} that includes:\n",
    "    1. A clear list of constraints.\n",
    "    2. A description of the input format with examples.\n",
    "    3. A description of the expected output format with examples.\n",
    "    4. A list of steps for solving the {problem}, organized for further agents to implement.\n",
    "    5. A list of edge cases and ambiguous areas to be addressed in future stages.\n",
    "    6. A .md file carrying all this detail\n",
    "    \"\"\",\n",
    "    # tools=tasks['planning']['tools'],\n",
    "    output_file=\"understanding.md\",\n",
    "    async_execution=False,  # Synchronous execution for better coordination\n",
    "    # Assigning the 'understand_problem' agent to execute this task\n",
    "    agent=understand_problem\n",
    ")\n"
   ]
  },
  {
   "cell_type": "code",
   "execution_count": null,
   "metadata": {
    "vscode": {
     "languageId": "plaintext"
    }
   },
   "outputs": [],
   "source": [
    "math_crew = Crew(\n",
    "    agents=[understand_problem],\n",
    "    tasks=[understand_problem_task],\n",
    "    verbose=True,\n",
    "    \n",
    ")\n"
   ]
  },
  {
   "cell_type": "code",
   "execution_count": null,
   "metadata": {
    "vscode": {
     "languageId": "plaintext"
    }
   },
   "outputs": [],
   "source": [
    "math_crew.kickoff(inputs={\"problem\": \"Mark Twain\"})"
   ]
  },
  {
   "cell_type": "code",
   "execution_count": null,
   "metadata": {
    "vscode": {
     "languageId": "plaintext"
    }
   },
   "outputs": [],
   "source": []
  }
 ],
 "metadata": {
  "language_info": {
   "name": "python"
  }
 },
 "nbformat": 4,
 "nbformat_minor": 2
}
